{
 "cells": [
  {
   "cell_type": "code",
   "execution_count": 2,
   "metadata": {},
   "outputs": [],
   "source": [
    "import sys\n",
    "import pandas as pd\n"
   ]
  },
  {
   "cell_type": "code",
   "execution_count": 8,
   "metadata": {},
   "outputs": [],
   "source": [
    "def create_dict_from_file(filename):\n",
    "        f = open(\"mashroom.txt\", \"r\") # file was placed in Jupyter Notebook\n",
    "        d = {}\n",
    "        for tids, line_items in enumerate(f):\n",
    "            d[tids] = [j for j in line_items.split(' ')\n",
    "                           if j != '\\n']\n",
    "        return d"
   ]
  },
  {
   "cell_type": "code",
   "execution_count": 9,
   "metadata": {},
   "outputs": [],
   "source": [
    "# create database\n",
    "def create_database(itemset):\n",
    "    \"Uses dummy indexing to create the binary database\"\n",
    "    return pd.Series(itemset).str.join('|').str.get_dummies()\n",
    "\n",
    "# calculate the support\n",
    "def compute_support(df, column):\n",
    "    \"Exploits the binary nature of the database\"\n",
    "    return df[column].sum()\n",
    "\n",
    "# Sys args did not work for me, used workaround to run 3000\n",
    "if __name__ == '__main__':\n",
    "    minsup = 5000\n",
    "    filename = 'mashroom.txt'\n",
    "    dict_itemset = create_dict_from_file(filename)\n",
    "    database = create_database(dict_itemset)"
   ]
  },
  {
   "cell_type": "code",
   "execution_count": 10,
   "metadata": {},
   "outputs": [
    {
     "name": "stdout",
     "output_type": "stream",
     "text": [
      "There are 7 items with frequency greater than or equal to minsup.\n",
      "[34, 36, 39, 59, 85, 86, 90]\n"
     ]
    }
   ],
   "source": [
    "freq_items = []\n",
    "for col in database.columns:\n",
    "    sup = compute_support(database, col)\n",
    "    if sup >= minsup:\n",
    "        freq_items.append(int(col))\n",
    "    else:\n",
    "        pass\n",
    "print('There are %d items with frequency'      ' greater than or equal to minsup.' % len(freq_items))\n",
    "print(sorted(freq_items))"
   ]
  },
  {
   "cell_type": "code",
   "execution_count": null,
   "metadata": {},
   "outputs": [],
   "source": []
  }
 ],
 "metadata": {
  "kernelspec": {
   "display_name": "Python 3",
   "language": "python",
   "name": "python3"
  },
  "language_info": {
   "codemirror_mode": {
    "name": "ipython",
    "version": 3
   },
   "file_extension": ".py",
   "mimetype": "text/x-python",
   "name": "python",
   "nbconvert_exporter": "python",
   "pygments_lexer": "ipython3",
   "version": "3.7.7"
  }
 },
 "nbformat": 4,
 "nbformat_minor": 4
}
