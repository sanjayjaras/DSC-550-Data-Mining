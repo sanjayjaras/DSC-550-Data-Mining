{
 "cells": [
  {
   "cell_type": "code",
   "execution_count": 1,
   "metadata": {},
   "outputs": [],
   "source": [
    "import numpy as np\n",
    "import pandas as pd"
   ]
  },
  {
   "cell_type": "markdown",
   "metadata": {},
   "source": [
    "## 1. Dimensionality Reduction\n",
    "### Part A) \n",
    "Here is a table of 1-5 star ratings for five movies (M, N, P. Q. R) by three raters (A, B, C).\n",
    "<table>\n",
    "    <thead><th>Rater</th><th>M</th><th>N</th><th>P</th><th>Q</th><th>R</th></thead>\n",
    "    <tbody>\n",
    "        <tr><td>A</td><td>1</td><td>2</td><td>3</td><td>4</td><td>5</td></tr>\n",
    "        <tr><td>B</td><td>2</td><td>3</td><td>2</td><td>5</td><td>3</td></tr>\n",
    "        <tr><td>C</td><td>5</td><td>5</td><td>5</td><td>3</td><td>2</td></tr>\n",
    "    </tbody>\n",
    "</table>\n",
    "Normalize the ratings by subtracting the average for each row and then subtracting the average for each column in the resulting table."
   ]
  },
  {
   "cell_type": "markdown",
   "metadata": {},
   "source": [
    "### Create Dataframe for table"
   ]
  },
  {
   "cell_type": "code",
   "execution_count": 2,
   "metadata": {},
   "outputs": [],
   "source": [
    "df = pd.DataFrame(\n",
    "    {\"M\": [1, 2, 5], \"N\": [2, 3, 5], \"P\": [3, 2, 5], \"Q\": [4, 5, 3], \"R\": [5, 3, 2]}\n",
    ")"
   ]
  },
  {
   "cell_type": "markdown",
   "metadata": {},
   "source": [
    "Rows-wise average"
   ]
  },
  {
   "cell_type": "code",
   "execution_count": 3,
   "metadata": {},
   "outputs": [
    {
     "data": {
      "text/plain": [
       "0    3.0\n",
       "1    3.0\n",
       "2    4.0\n",
       "dtype: float64"
      ]
     },
     "execution_count": 3,
     "metadata": {},
     "output_type": "execute_result"
    }
   ],
   "source": [
    "df.mean(axis=1)"
   ]
  },
  {
   "cell_type": "markdown",
   "metadata": {},
   "source": [
    "Normalize by subtracting row-wise mean from each element"
   ]
  },
  {
   "cell_type": "code",
   "execution_count": 4,
   "metadata": {},
   "outputs": [
    {
     "data": {
      "text/html": [
       "<div>\n",
       "<style scoped>\n",
       "    .dataframe tbody tr th:only-of-type {\n",
       "        vertical-align: middle;\n",
       "    }\n",
       "\n",
       "    .dataframe tbody tr th {\n",
       "        vertical-align: top;\n",
       "    }\n",
       "\n",
       "    .dataframe thead th {\n",
       "        text-align: right;\n",
       "    }\n",
       "</style>\n",
       "<table border=\"1\" class=\"dataframe\">\n",
       "  <thead>\n",
       "    <tr style=\"text-align: right;\">\n",
       "      <th></th>\n",
       "      <th>M</th>\n",
       "      <th>N</th>\n",
       "      <th>P</th>\n",
       "      <th>Q</th>\n",
       "      <th>R</th>\n",
       "    </tr>\n",
       "  </thead>\n",
       "  <tbody>\n",
       "    <tr>\n",
       "      <th>0</th>\n",
       "      <td>-2.0</td>\n",
       "      <td>-1.0</td>\n",
       "      <td>0.0</td>\n",
       "      <td>1.0</td>\n",
       "      <td>2.0</td>\n",
       "    </tr>\n",
       "    <tr>\n",
       "      <th>1</th>\n",
       "      <td>-1.0</td>\n",
       "      <td>0.0</td>\n",
       "      <td>-1.0</td>\n",
       "      <td>2.0</td>\n",
       "      <td>0.0</td>\n",
       "    </tr>\n",
       "    <tr>\n",
       "      <th>2</th>\n",
       "      <td>1.0</td>\n",
       "      <td>1.0</td>\n",
       "      <td>1.0</td>\n",
       "      <td>-1.0</td>\n",
       "      <td>-2.0</td>\n",
       "    </tr>\n",
       "  </tbody>\n",
       "</table>\n",
       "</div>"
      ],
      "text/plain": [
       "     M    N    P    Q    R\n",
       "0 -2.0 -1.0  0.0  1.0  2.0\n",
       "1 -1.0  0.0 -1.0  2.0  0.0\n",
       "2  1.0  1.0  1.0 -1.0 -2.0"
      ]
     },
     "execution_count": 4,
     "metadata": {},
     "output_type": "execute_result"
    }
   ],
   "source": [
    "df = df.sub(df.mean(axis=1), axis=0)\n",
    "df"
   ]
  },
  {
   "cell_type": "markdown",
   "metadata": {},
   "source": [
    "Column-wise average"
   ]
  },
  {
   "cell_type": "code",
   "execution_count": 5,
   "metadata": {},
   "outputs": [
    {
     "data": {
      "text/plain": [
       "M   -0.666667\n",
       "N    0.000000\n",
       "P    0.000000\n",
       "Q    0.666667\n",
       "R    0.000000\n",
       "dtype: float64"
      ]
     },
     "execution_count": 5,
     "metadata": {},
     "output_type": "execute_result"
    }
   ],
   "source": [
    "df.mean(axis=0)"
   ]
  },
  {
   "cell_type": "markdown",
   "metadata": {},
   "source": [
    "Normalize by subtracting column mean from each element"
   ]
  },
  {
   "cell_type": "code",
   "execution_count": 6,
   "metadata": {},
   "outputs": [
    {
     "data": {
      "text/html": [
       "<div>\n",
       "<style scoped>\n",
       "    .dataframe tbody tr th:only-of-type {\n",
       "        vertical-align: middle;\n",
       "    }\n",
       "\n",
       "    .dataframe tbody tr th {\n",
       "        vertical-align: top;\n",
       "    }\n",
       "\n",
       "    .dataframe thead th {\n",
       "        text-align: right;\n",
       "    }\n",
       "</style>\n",
       "<table border=\"1\" class=\"dataframe\">\n",
       "  <thead>\n",
       "    <tr style=\"text-align: right;\">\n",
       "      <th></th>\n",
       "      <th>M</th>\n",
       "      <th>N</th>\n",
       "      <th>P</th>\n",
       "      <th>Q</th>\n",
       "      <th>R</th>\n",
       "    </tr>\n",
       "  </thead>\n",
       "  <tbody>\n",
       "    <tr>\n",
       "      <th>0</th>\n",
       "      <td>-1.333333</td>\n",
       "      <td>-1.0</td>\n",
       "      <td>0.0</td>\n",
       "      <td>0.333333</td>\n",
       "      <td>2.0</td>\n",
       "    </tr>\n",
       "    <tr>\n",
       "      <th>1</th>\n",
       "      <td>-0.333333</td>\n",
       "      <td>0.0</td>\n",
       "      <td>-1.0</td>\n",
       "      <td>1.333333</td>\n",
       "      <td>0.0</td>\n",
       "    </tr>\n",
       "    <tr>\n",
       "      <th>2</th>\n",
       "      <td>1.666667</td>\n",
       "      <td>1.0</td>\n",
       "      <td>1.0</td>\n",
       "      <td>-1.666667</td>\n",
       "      <td>-2.0</td>\n",
       "    </tr>\n",
       "  </tbody>\n",
       "</table>\n",
       "</div>"
      ],
      "text/plain": [
       "          M    N    P         Q    R\n",
       "0 -1.333333 -1.0  0.0  0.333333  2.0\n",
       "1 -0.333333  0.0 -1.0  1.333333  0.0\n",
       "2  1.666667  1.0  1.0 -1.666667 -2.0"
      ]
     },
     "execution_count": 6,
     "metadata": {},
     "output_type": "execute_result"
    }
   ],
   "source": [
    "df = df.sub(df.mean(axis=0), axis=1)\n",
    "df"
   ]
  },
  {
   "cell_type": "markdown",
   "metadata": {},
   "source": [
    "### Part B) \n",
    "This is a table giving the profile of three items:\n",
    "<table>\n",
    "    <tr><td>A</td><td>1</td><td>0</td><td>1</td><td>0</td><td>1</td><td>2</td></tr>\n",
    "    <tr><td>B</td><td>1</td><td>1</td><td>0</td><td>0</td><td>1</td><td>6</td></tr>\n",
    "    <tr><td>C</td><td>0</td><td>1</td><td>0</td><td>1</td><td>0</td><td>2</td></tr>\n",
    "</table>\n",
    "The first five attributes are Boolean, and the last is an integer \"rating.\" Assume that the scale factor for the rating is α. Compute, as a function of α, the cosine distances between each pair of profiles. For each of α = 0, 0.5, 1, and 2, determine the cosine of the angle between each pair of vectors."
   ]
  },
  {
   "cell_type": "code",
   "execution_count": 7,
   "metadata": {},
   "outputs": [],
   "source": [
    "def cal_len(vec):\n",
    "    return np.sqrt(np.sum(np.square(vec)))\n",
    "\n",
    "\n",
    "def dot_prod(vec1, vec2):\n",
    "    return np.dot(vec1, vec2)\n",
    "\n",
    "\n",
    "def cosine(vec1, vec2):\n",
    "    dot_prod = np.dot(vec1, vec2)\n",
    "    len_mult = cal_len(vec1) * cal_len(vec2)\n",
    "    return dot_prod / len_mult"
   ]
  },
  {
   "cell_type": "code",
   "execution_count": 8,
   "metadata": {},
   "outputs": [
    {
     "name": "stdout",
     "output_type": "stream",
     "text": [
      "\n",
      " ********** Scale factor: 0 **********\n",
      "Cosine of angle between A and B 0.6666666666666667\n",
      "Cosine of angle between A and C 0.0\n",
      "Cosine of angle between B and C 0.40824829046386296\n",
      "\n",
      " ********** Scale factor: 0.5 **********\n",
      "Cosine of angle between A and B 0.7216878364870323\n",
      "Cosine of angle between A and C 0.2886751345948129\n",
      "Cosine of angle between B and C 0.6666666666666667\n",
      "\n",
      " ********** Scale factor: 1 **********\n",
      "Cosine of angle between A and B 0.8473185457363233\n",
      "Cosine of angle between A and C 0.6172133998483676\n",
      "Cosine of angle between B and C 0.8498365855987975\n",
      "\n",
      " ********** Scale factor: 2 **********\n",
      "Cosine of angle between A and B 0.9460945407607455\n",
      "Cosine of angle between A and C 0.8651809126974003\n",
      "Cosine of angle between B and C 0.9525793444156805\n"
     ]
    }
   ],
   "source": [
    "for alpha in [0, 0.5, 1, 2]:\n",
    "    arr = np.array(\n",
    "        [\n",
    "            [1, 0, 1, 0, 1, 2 * alpha],\n",
    "            [1, 1, 0, 0, 1, 6 * alpha],\n",
    "            [0, 1, 0, 1, 0, 2 * alpha],\n",
    "        ]\n",
    "    )\n",
    "    print(\"\\n\", \"*\" * 10, \"Scale factor:\", alpha, \"*\" * 10)\n",
    "    print(\"Cosine of angle between A and B\", cosine(arr[0], arr[1]))\n",
    "    print(\"Cosine of angle between A and C\", cosine(arr[0], arr[2]))\n",
    "    print(\"Cosine of angle between B and C\", cosine(arr[1], arr[2]))"
   ]
  },
  {
   "cell_type": "markdown",
   "metadata": {},
   "source": [
    "### Part C\n",
    "In this question, all columns will be written in their transposed form, as rows, to make the typography simpler. Matrix M has three rows and two columns, and the columns form an orthonormal basis. One of the columns is [2/7,3/7,6/7]. There are many options for the second column [x,y,z]. Write down those constraints on x, y, and z. Then, identify in the list below the one column that could be [x,y,z]. All components are computed to three decimal places, so the constraints may be satisfied only to a close approximation."
   ]
  },
  {
   "cell_type": "markdown",
   "metadata": {},
   "source": [
    "#### Constraints for orthonormals\n",
    "\n",
    "u=np.arr[2/7, 3/7, 6/7]\n",
    "v = np.arr[x, y, z]\n",
    "\n",
    "constraints u.v = 0 dot product should be zero\n",
    "length of v should 1"
   ]
  },
  {
   "cell_type": "code",
   "execution_count": 9,
   "metadata": {},
   "outputs": [],
   "source": [
    "u = np.array([2 / 7, 3 / 7, 6 / 7])"
   ]
  },
  {
   "cell_type": "code",
   "execution_count": 10,
   "metadata": {},
   "outputs": [
    {
     "name": "stdout",
     "output_type": "stream",
     "text": [
      "[-0.  1. -0.]\n",
      "Dot product: 0.0 Length: 1.0 \n",
      "\n",
      "[-1. -0.  0.]\n",
      "Dot product: 0.0 Length: 1.0 \n",
      "\n",
      "[ 1.  1. -1.]\n",
      "Dot product: -0.0 Length: 1.0 \n",
      "\n",
      "[ 0.  1. -0.]\n",
      "Dot product: -0.0 Length: 1.0 \n",
      "\n",
      "[ 1. -1.  0.]\n",
      "Dot product: 0.0 Length: 1.0 \n",
      "\n",
      "[-1.  1.  0.]\n",
      "Dot product: 0.0 Length: 1.0 \n",
      "\n",
      "[-1.  1. -0.]\n",
      "Dot product: 0.0 Length: 1.0 \n",
      "\n",
      "[ 0.  1. -1.]\n",
      "Dot product: -0.0 Length: 1.0 \n",
      "\n",
      "[ 1.  0. -0.]\n",
      "Dot product: 0.0 Length: 1.0 \n",
      "\n",
      "[ 0. -1.  0.]\n",
      "Dot product: 0.0 Length: 1.0 \n",
      "\n"
     ]
    }
   ],
   "source": [
    "def find_orthoonal_vector(input_vec):\n",
    "    x = np.random.randn(3)  # take a random vector\n",
    "    x -= x.dot(input_vec) * input_vec  # make it orthogonal to k\n",
    "    return x\n",
    "\n",
    "\n",
    "def find_random__orothgonal_unit_vectors(input_vec):\n",
    "    x = find_orthoonal_vector(input_vec)\n",
    "    x /= np.linalg.norm(x)\n",
    "    print(np.round(x))\n",
    "    return x\n",
    "\n",
    "\n",
    "for i in range(10):\n",
    "    v = find_random__orothgonal_unit_vectors(u)\n",
    "    print(\n",
    "        \"Dot product:\", np.round(u.dot(v)), \"Length:\", np.round(np.linalg.norm(v)), \"\\n\"\n",
    "    )"
   ]
  },
  {
   "cell_type": "markdown",
   "metadata": {},
   "source": [
    "### Part D) \n",
    "Suppose we have three points in a two dimensional space: (1,1), (2,2), and (3,4). We want to perform PCA on these points, so we construct a 2-by-2 matrix whose eigenvectors are the directions that best represent these three points. Construct this matrix."
   ]
  },
  {
   "cell_type": "code",
   "execution_count": 11,
   "metadata": {},
   "outputs": [],
   "source": [
    "const = 0.01\n",
    "\n",
    "\n",
    "def calculate_eignvalue(M, Xk):\n",
    "    for i in range(5):\n",
    "        MXk = np.matmul(M, Xk)\n",
    "        # print(MXk)\n",
    "        forb_norm = np.linalg.norm(MXk)\n",
    "        # print(forb_norm)\n",
    "        XkPlus1 = MXk / forb_norm\n",
    "        # print(XkPlus1)\n",
    "        if np.linalg.norm(Xk - XkPlus1) < const:\n",
    "            break\n",
    "        Xk = XkPlus1\n",
    "\n",
    "    Xk = XkPlus1\n",
    "    lambd = MXk = np.matmul(np.matmul(np.transpose(Xk), M), Xk)\n",
    "    return Xk, np.round(lambd, 3)\n",
    "\n",
    "\n",
    "def calculate_MStar(M, lam, x):\n",
    "    mult = lam * np.matmul(x, np.transpose(x))\n",
    "    return M - mult\n",
    "\n",
    "\n",
    "# M = np.array([[3, 2], [2, 6]])\n",
    "# Xk = np.array([[1], [1]])\n",
    "# Xk, lam = calculate_eignvalue(M, Xk)\n",
    "# print(\"EigenVector:\\n\", Xk, \"\\nEginValue:\", lam)\n",
    "# mStar = calculate_MStar(M, lam, Xk)\n",
    "## print(mStar)\n",
    "# Xk, lam = calculate_eignvalue(mStar, Xk)\n",
    "# print(\"EigenVector:\\n\", Xk, \"\\nEginValue:\", lam)"
   ]
  },
  {
   "cell_type": "code",
   "execution_count": 12,
   "metadata": {},
   "outputs": [
    {
     "name": "stdout",
     "output_type": "stream",
     "text": [
      "MtM [[14 17]\n",
      " [17 21]]\n",
      "EigenVector:\n",
      " [[0.63180316]\n",
      " [0.77512887]] \n",
      "EginValue: [[34.857]]\n",
      "EigenVector:\n",
      " [[ 0.77486565]\n",
      " [-0.63212595]] \n",
      "EginValue: [[0.143]]\n"
     ]
    }
   ],
   "source": [
    "# M = np.array([[1, 2], [2, 1], [3, 4], [4, 3]])\n",
    "# MtM = np.matmul(np.transpose(M), M)\n",
    "# print(\"MtM\", MtM)\n",
    "# ident = np.array([[1], [1]])\n",
    "# Xk, lam = calculate_eignvalue(MtM, Xk)\n",
    "# print(\"EigenVector:\\n\", Xk, \"\\nEginValue:\", lam)\n",
    "# mStar = calculate_MStar(MtM, lam, Xk)\n",
    "# Xk, lam = calculate_eignvalue(mStar, ident)\n",
    "# print(\"EigenVector:\\n\", Xk, \"\\nEginValue:\", lam)\n",
    "# print(\"*************************************\")\n",
    "M = np.array([[1, 1], [2, 2], [3, 4]])\n",
    "MtM = np.matmul(np.transpose(M), M)\n",
    "print(\"MtM\", MtM)\n",
    "ident = np.array([[1], [1]])\n",
    "Xk, lam = calculate_eignvalue(MtM, ident)\n",
    "print(\"EigenVector:\\n\", Xk, \"\\nEginValue:\", lam)\n",
    "mStar = calculate_MStar(MtM, lam, Xk)\n",
    "Xk, lam = calculate_eignvalue(mStar, ident)\n",
    "print(\"EigenVector:\\n\", Xk, \"\\nEginValue:\", lam)"
   ]
  },
  {
   "cell_type": "markdown",
   "metadata": {},
   "source": [
    "### Part E) \n",
    "Identify the vector that is orthogonal to the vector [1,2,3]."
   ]
  },
  {
   "cell_type": "code",
   "execution_count": 13,
   "metadata": {},
   "outputs": [
    {
     "name": "stdout",
     "output_type": "stream",
     "text": [
      "Orthogonal Vector: [-2. -3. -5.]\n",
      "Normalized orthogonal Vector: [-0. -1. -1.]\n"
     ]
    }
   ],
   "source": [
    "vec = np.array([1, 2, 3])\n",
    "orth = find_orthoonal_vector(vec)\n",
    "print(\"Orthogonal Vector:\", np.round(orth))\n",
    "print(\"Normalized orthogonal Vector:\", np.round(orth / np.linalg.norm(orth)))"
   ]
  },
  {
   "cell_type": "markdown",
   "metadata": {},
   "source": [
    "Part F) Consider the diagonal matrix M =\n",
    "\n",
    "1\t0\t0<br/>\n",
    "0\t2\t0<br/>\n",
    "0\t0\t0<br/>\n",
    "Compute its Moore-Penrose pseudoinverse.\n"
   ]
  },
  {
   "cell_type": "markdown",
   "metadata": {},
   "source": [
    "Compute Σ + , the Moore-Penrose pseudoinverse of the diagonal matrix\n",
    "Σ. That is, if the ith diagonal element of Σ is σ 6 = 0, then replace it by\n",
    "1/σ. But if the ith element is 0, leave it as 0. "
   ]
  },
  {
   "cell_type": "markdown",
   "metadata": {},
   "source": [
    "ANS: \n",
    "<table>\n",
    "    <tr><td>1</td><td>0</td><td>0</td></tr>\n",
    "    <tr><td>0</td><td>1/2</td><td>0</td></tr>\n",
    "    <tr><td>0</td><td>0</td><td>0</td></tr>\n",
    "   </table>\n",
    "\n"
   ]
  },
  {
   "cell_type": "markdown",
   "metadata": {},
   "source": [
    "## Problem 2: \n",
    "Exercise 11.3.2 : Use the SVD from Fig. 11.7. Suppose Leslie assigns rating 3\n",
    "to Alien and rating 4 to Titanic, giving us a representation of Leslie in “movie\n",
    "space” of [0, 3, 0, 0, 4]. Find the representation of Leslie in concept space. What\n",
    "does that representation predict about how well Leslie would like the other\n",
    "movies appearing in our example data?"
   ]
  },
  {
   "cell_type": "markdown",
   "metadata": {},
   "source": [
    "Ratings after adding Leslie's ratings"
   ]
  },
  {
   "cell_type": "code",
   "execution_count": 14,
   "metadata": {},
   "outputs": [
    {
     "data": {
      "text/html": [
       "<div>\n",
       "<style scoped>\n",
       "    .dataframe tbody tr th:only-of-type {\n",
       "        vertical-align: middle;\n",
       "    }\n",
       "\n",
       "    .dataframe tbody tr th {\n",
       "        vertical-align: top;\n",
       "    }\n",
       "\n",
       "    .dataframe thead th {\n",
       "        text-align: right;\n",
       "    }\n",
       "</style>\n",
       "<table border=\"1\" class=\"dataframe\">\n",
       "  <thead>\n",
       "    <tr style=\"text-align: right;\">\n",
       "      <th></th>\n",
       "      <th>Matrix</th>\n",
       "      <th>Alien</th>\n",
       "      <th>Star Wars</th>\n",
       "      <th>Casablanca</th>\n",
       "      <th>Titanic</th>\n",
       "    </tr>\n",
       "    <tr>\n",
       "      <th>User</th>\n",
       "      <th></th>\n",
       "      <th></th>\n",
       "      <th></th>\n",
       "      <th></th>\n",
       "      <th></th>\n",
       "    </tr>\n",
       "  </thead>\n",
       "  <tbody>\n",
       "    <tr>\n",
       "      <th>Joe</th>\n",
       "      <td>1</td>\n",
       "      <td>1</td>\n",
       "      <td>1</td>\n",
       "      <td>0</td>\n",
       "      <td>0</td>\n",
       "    </tr>\n",
       "    <tr>\n",
       "      <th>Jim</th>\n",
       "      <td>3</td>\n",
       "      <td>3</td>\n",
       "      <td>3</td>\n",
       "      <td>0</td>\n",
       "      <td>0</td>\n",
       "    </tr>\n",
       "    <tr>\n",
       "      <th>John</th>\n",
       "      <td>4</td>\n",
       "      <td>4</td>\n",
       "      <td>4</td>\n",
       "      <td>0</td>\n",
       "      <td>0</td>\n",
       "    </tr>\n",
       "    <tr>\n",
       "      <th>Jack</th>\n",
       "      <td>5</td>\n",
       "      <td>5</td>\n",
       "      <td>5</td>\n",
       "      <td>0</td>\n",
       "      <td>0</td>\n",
       "    </tr>\n",
       "    <tr>\n",
       "      <th>Jill</th>\n",
       "      <td>0</td>\n",
       "      <td>0</td>\n",
       "      <td>0</td>\n",
       "      <td>4</td>\n",
       "      <td>4</td>\n",
       "    </tr>\n",
       "    <tr>\n",
       "      <th>Jenny</th>\n",
       "      <td>0</td>\n",
       "      <td>0</td>\n",
       "      <td>0</td>\n",
       "      <td>5</td>\n",
       "      <td>5</td>\n",
       "    </tr>\n",
       "    <tr>\n",
       "      <th>Jane</th>\n",
       "      <td>0</td>\n",
       "      <td>0</td>\n",
       "      <td>0</td>\n",
       "      <td>2</td>\n",
       "      <td>2</td>\n",
       "    </tr>\n",
       "    <tr>\n",
       "      <th>Leslie</th>\n",
       "      <td>0</td>\n",
       "      <td>3</td>\n",
       "      <td>0</td>\n",
       "      <td>0</td>\n",
       "      <td>4</td>\n",
       "    </tr>\n",
       "  </tbody>\n",
       "</table>\n",
       "</div>"
      ],
      "text/plain": [
       "        Matrix  Alien  Star Wars  Casablanca  Titanic\n",
       "User                                                 \n",
       "Joe          1      1          1           0        0\n",
       "Jim          3      3          3           0        0\n",
       "John         4      4          4           0        0\n",
       "Jack         5      5          5           0        0\n",
       "Jill         0      0          0           4        4\n",
       "Jenny        0      0          0           5        5\n",
       "Jane         0      0          0           2        2\n",
       "Leslie       0      3          0           0        4"
      ]
     },
     "execution_count": 14,
     "metadata": {},
     "output_type": "execute_result"
    }
   ],
   "source": [
    "df = pd.DataFrame(\n",
    "    {\n",
    "        \"User\": [\"Joe\", \"Jim\", \"John\", \"Jack\", \"Jill\", \"Jenny\", \"Jane\", \"Leslie\"],\n",
    "        \"Matrix\": [1, 3, 4, 5, 0, 0, 0, 0],\n",
    "        \"Alien\": [1, 3, 4, 5, 0, 0, 0, 3],\n",
    "        \"Star Wars\": [1, 3, 4, 5, 0, 0, 0, 0],\n",
    "        \"Casablanca\": [0, 0, 0, 0, 4, 5, 2, 0],\n",
    "        \"Titanic\": [0, 0, 0, 0, 4, 5, 2, 4],\n",
    "    }\n",
    ")\n",
    "df.set_index(\"User\", drop=True, inplace=True)\n",
    "df"
   ]
  },
  {
   "cell_type": "markdown",
   "metadata": {},
   "source": [
    "we can map Leslie into “concept space” by multiplying him by the matrix V\n",
    "of the decomposition."
   ]
  },
  {
   "cell_type": "code",
   "execution_count": 15,
   "metadata": {},
   "outputs": [
    {
     "name": "stdout",
     "output_type": "stream",
     "text": [
      "V:\n",
      " [[0.58 0.58 0.58 0.   0.  ]\n",
      " [0.   0.   0.   0.71 0.71]]\n",
      "q:\n",
      " [[0 3 0 0 4]]\n",
      "qV [[1.74 2.84]]\n",
      "lesle_movie_space:\n",
      " [[1.0092 1.0092 1.0092 2.0164 2.0164]]\n"
     ]
    }
   ],
   "source": [
    "V = np.array([[0.58, 0.58, 0.58, 0, 0], [0, 0, 0, 0.71, 0.71]])\n",
    "q = np.array([[0,3,0,0,4]])\n",
    "#q = q = np.array([[4,0,0,0,0]])\n",
    "print(\"V:\\n\", V)\n",
    "print(\"q:\\n\", q)\n",
    "leslie_concept =  np.matmul(q, np.transpose(V))\n",
    "print(\"qV\", leslie_concept)\n",
    "movie_space_leslie = np.matmul(leslie_concept, V)\n",
    "print(\"lesle_movie_space:\\n\", movie_space_leslie)"
   ]
  },
  {
   "cell_type": "markdown",
   "metadata": {},
   "source": [
    "From above Movie Space numbers we can conclude that Leslie Likes both types of movies Science-Fiction as well as Romantic, The numbers shows that Leslie is more inclined towards romantic movies. We can say that Leslie will also other movies from our dataset(Casablanca, Matrix, and Star Wars). "
   ]
  }
 ],
 "metadata": {
  "kernelspec": {
   "display_name": "Python 3",
   "language": "python",
   "name": "python3"
  },
  "language_info": {
   "codemirror_mode": {
    "name": "ipython",
    "version": 3
   },
   "file_extension": ".py",
   "mimetype": "text/x-python",
   "name": "python",
   "nbconvert_exporter": "python",
   "pygments_lexer": "ipython3",
   "version": "3.7.7"
  }
 },
 "nbformat": 4,
 "nbformat_minor": 4
}
